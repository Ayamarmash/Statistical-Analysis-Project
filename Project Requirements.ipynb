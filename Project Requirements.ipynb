{
 "cells": [
  {
   "cell_type": "markdown",
   "metadata": {
    "colab_type": "text",
    "id": "view-in-github"
   },
   "source": [
    "<a href=\"https://colab.research.google.com/github/Ayamarmash/Statistical-Analysis-Project/blob/main/Copy_of_statistical_analysis__python_hw_2023.ipynb\" target=\"_parent\"><img src=\"https://colab.research.google.com/assets/colab-badge.svg\" alt=\"Open In Colab\"/></a>"
   ]
  },
  {
   "cell_type": "markdown",
   "metadata": {
    "id": "6O9HhQnP6yZI"
   },
   "source": [
    "In this assignment, you practice inferential statistics using python. We would like to predict trip duration from a location to another using a taxi. Use the following dataset and write the following python functions.\n",
    "\n",
    "[Data Set](https://data.cityofnewyork.us/Transportation/2019-High-Volume-FHV-Trip-Records/4p5c-cbgn/data\n",
    ")\n",
    "\n",
    "\n",
    "- write a function that takes a data frame and computes the trip duration using the difference between `pickup_datetime` and `dropoff_datetime`. The new column is added to the data frame and the result data frame is returned from the function\n",
    "\n",
    "- write a function that takes a data frame and adds to it the hour of the day and the day of the week from the field `pickup_datetime`. The new data frame is returned from the function.\n",
    "\n",
    "- write a function that computes a new data frame called `predictions` where the index is\n",
    "\n",
    "`PULocationID/DOLocationID/day of the week/hour` and has two columns. the first is the `mean trip duration` and the second column is the `margin of error using 95% confidence interval`. The mean is computed for all trip durations for the same `PULocationID/DOLocationID/day of the week/hour`. The new data frame is returned from the function.\n",
    "\n",
    "- write a function that read the data file and calls the three functions to finally generate the data frame that is called `predictions`\n",
    "\n",
    "\n",
    "\n",
    "Rubric for the assignment:\n",
    "- the function definition matches the requirements from input/out/ and functionality\n",
    "- the code is documented\n",
    "- the variable naming and function naming are meaningful\n",
    "- you have to use `scipy` to compute the t or z scores\n",
    "- You should not program functionality that is already exists in a Python package. Don't re-invent the wheel. !!\n",
    "\n",
    "I need to see just 4 functions\n",
    "\n",
    "Good Luck\n",
    "\n"
   ]
  },
  {
   "cell_type": "code",
   "execution_count": null,
   "metadata": {
    "id": "WhLuRTuh6ifm"
   },
   "outputs": [],
   "source": []
  }
 ],
 "metadata": {
  "colab": {
   "include_colab_link": true,
   "provenance": []
  },
  "kernelspec": {
   "display_name": "Python 3 (ipykernel)",
   "language": "python",
   "name": "python3"
  },
  "language_info": {
   "codemirror_mode": {
    "name": "ipython",
    "version": 3
   },
   "file_extension": ".py",
   "mimetype": "text/x-python",
   "name": "python",
   "nbconvert_exporter": "python",
   "pygments_lexer": "ipython3",
   "version": "3.11.4"
  }
 },
 "nbformat": 4,
 "nbformat_minor": 1
}
